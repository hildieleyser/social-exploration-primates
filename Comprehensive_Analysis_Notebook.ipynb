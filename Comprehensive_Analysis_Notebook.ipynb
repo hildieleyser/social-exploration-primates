{
  "cells": [
    {
      "cell_type": "raw",
      "metadata": {
        "vscode": {
          "languageId": "raw"
        }
      },
      "source": [
        "# Social Frames of Reference in Explore-Exploit Decision-Making\n",
        "## A Comprehensive Analysis of Non-Human Primate Behavioral Data\n",
        "\n",
        "**Research Question:** How do social frames of reference influence explore-exploit trade-offs in non-human primates?\n"
      ]
    },
    {
      "cell_type": "raw",
      "metadata": {
        "vscode": {
          "languageId": "raw"
        }
      },
      "source": [
        "## 1. Experimental Paradigm\n",
        "\n",
        "### The Explore-Exploit Paradigm\n",
        "The **explore-exploit dilemma** is a fundamental decision-making challenge where individuals must choose between:\n",
        "- **Exploitation**: Choosing known options with predictable rewards\n",
        "- **Exploration**: Investigating novel options with uncertain outcomes  \n",
        "- **Inaction**: Choosing neither (abstaining from the choice)\n",
        "\n",
        "### Social Context Manipulation\n",
        "We manipulated **social complexity** across three levels:\n",
        "\n",
        "| Social Level | Description | Cognitive Load |\n",
        "|--------------|-------------|----------------|\n",
        "| **Individual** (Solo) | Single monkey making decisions alone | Baseline |\n",
        "| **Dyadic** (Duo) | Two monkeys making decisions together | Moderate |\n",
        "| **Triadic** (Trio) | Three monkeys making decisions together | High |\n",
        "\n",
        "### Theoretical Framework\n",
        "**Hypothesis**: Increasing social complexity reduces exploration due to:\n",
        "1. **Social monitoring demands** - Need to track others' behaviors\n",
        "2. **Coordination requirements** - Synchronizing decisions with partners\n",
        "3. **Competition for resources** - Risk of losing rewards to others\n",
        "4. **Theory of mind computations** - Predicting others' intentions\n"
      ]
    },
    {
      "cell_type": "raw",
      "metadata": {
        "vscode": {
          "languageId": "raw"
        }
      },
      "source": [
        "# Social Frames of Reference in Explore-Exploit Decision-Making\n",
        "## A Comprehensive Analysis of Non-Human Primate Behavioral Data\n",
        "\n",
        "**Research Question:** How do social frames of reference influence explore-exploit trade-offs in non-human primates?\n",
        "\n",
        "---\n"
      ]
    },
    {
      "cell_type": "raw",
      "metadata": {
        "vscode": {
          "languageId": "raw"
        }
      },
      "source": [
        "## 1. Experimental Paradigm\n",
        "\n",
        "### The Explore-Exploit Paradigm\n",
        "\n",
        "The **explore-exploit dilemma** is a fundamental decision-making challenge where individuals must choose between:\n",
        "- **Exploitation**: Choosing known options with predictable rewards\n",
        "- **Exploration**: Investigating novel options with uncertain outcomes\n",
        "- **Inaction**: Choosing neither (abstaining from the choice)\n",
        "\n",
        "### Social Context Manipulation\n",
        "\n",
        "We manipulated **social complexity** across three levels:\n",
        "\n",
        "| Social Level | Description | Cognitive Load |\n",
        "|--------------|-------------|----------------|\n",
        "| **Individual** (Solo) | Single monkey making decisions alone | Baseline |\n",
        "| **Dyadic** (Duo) | Two monkeys making decisions together | Moderate |\n",
        "| **Triadic** (Trio) | Three monkeys making decisions together | High |\n",
        "\n",
        "### Theoretical Framework\n",
        "\n",
        "**Hypothesis**: Increasing social complexity reduces exploration due to:\n",
        "1. **Social monitoring demands** - Need to track others' behaviors\n",
        "2. **Coordination requirements** - Synchronizing decisions with partners\n",
        "3. **Competition for resources** - Risk of losing rewards to others\n",
        "4. **Theory of mind computations** - Predicting others' intentions\n",
        "\n",
        "---\n"
      ]
    }
  ],
  "metadata": {
    "language_info": {
      "name": "python"
    }
  },
  "nbformat": 4,
  "nbformat_minor": 2
}
